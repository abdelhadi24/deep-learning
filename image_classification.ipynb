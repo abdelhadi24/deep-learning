{
 "cells": [
  {
   "cell_type": "markdown",
   "metadata": {
    "collapsed": true
   },
   "source": [
    "# Image Classification\n",
    "In this project, you'll classify images from the [CIFAR-10 dataset](https://www.cs.toronto.edu/~kriz/cifar.html).  The dataset consists of airplanes, dogs, cats, and other objects. You'll preprocess the images, then train a convolutional neural network on all the samples. The images need to be normalized and the labels need to be one-hot encoded.  You'll get to apply what you learned and build a convolutional, max pooling, dropout, and fully connected layers.  At the end, you'll get to see your neural network's predictions on the sample images.\n",
    "## Get the Data\n",
    "Run the following cell to download the [CIFAR-10 dataset for python](https://www.cs.toronto.edu/~kriz/cifar-10-python.tar.gz)."
   ]
  },
  {
   "cell_type": "code",
   "execution_count": 127,
   "metadata": {},
   "outputs": [
    {
     "name": "stdout",
     "output_type": "stream",
     "text": [
      "All files found!\n"
     ]
    }
   ],
   "source": [
    "\"\"\"\n",
    "DON'T MODIFY ANYTHING IN THIS CELL THAT IS BELOW THIS LINE\n",
    "\"\"\"\n",
    "from urllib.request import urlretrieve\n",
    "from os.path import isfile, isdir\n",
    "from tqdm import tqdm\n",
    "import problem_unittests as tests\n",
    "import tarfile\n",
    "\n",
    "cifar10_dataset_folder_path = 'cifar-10-batches-py'\n",
    "\n",
    "class DLProgress(tqdm):\n",
    "    last_block = 0\n",
    "\n",
    "    def hook(self, block_num=1, block_size=1, total_size=None):\n",
    "        self.total = total_size\n",
    "        self.update((block_num - self.last_block) * block_size)\n",
    "        self.last_block = block_num\n",
    "\n",
    "if not isfile('cifar-10-python.tar.gz'):\n",
    "    with DLProgress(unit='B', unit_scale=True, miniters=1, desc='CIFAR-10 Dataset') as pbar:\n",
    "        urlretrieve(\n",
    "            'https://www.cs.toronto.edu/~kriz/cifar-10-python.tar.gz',\n",
    "            'cifar-10-python.tar.gz',\n",
    "            pbar.hook)\n",
    "\n",
    "if not isdir(cifar10_dataset_folder_path):\n",
    "    with tarfile.open('cifar-10-python.tar.gz') as tar:\n",
    "        tar.extractall()\n",
    "        tar.close()\n",
    "\n",
    "\n",
    "tests.test_folder_path(cifar10_dataset_folder_path)"
   ]
  },
  {
   "cell_type": "code",
   "execution_count": null,
   "metadata": {
    "collapsed": true
   },
   "outputs": [],
   "source": []
  },
  {
   "cell_type": "markdown",
   "metadata": {},
   "source": [
    "## Explore the Data\n",
    "The dataset is broken into batches to prevent your machine from running out of memory.  The CIFAR-10 dataset consists of 5 batches, named `data_batch_1`, `data_batch_2`, etc.. Each batch contains the labels and images that are one of the following:\n",
    "* airplane\n",
    "* automobile\n",
    "* bird\n",
    "* cat\n",
    "* deer\n",
    "* dog\n",
    "* frog\n",
    "* horse\n",
    "* ship\n",
    "* truck\n",
    "\n",
    "Understanding a dataset is part of making predictions on the data.  Play around with the code cell below by changing the `batch_id` and `sample_id`. The `batch_id` is the id for a batch (1-5). The `sample_id` is the id for a image and label pair in the batch.\n",
    "\n",
    "Ask yourself \"What are all possible labels?\", \"What is the range of values for the image data?\", \"Are the labels in order or random?\".  Answers to questions like these will help you preprocess the data and end up with better predictions."
   ]
  },
  {
   "cell_type": "code",
   "execution_count": 128,
   "metadata": {},
   "outputs": [
    {
     "name": "stdout",
     "output_type": "stream",
     "text": [
      "\n",
      "Stats of batch 1:\n",
      "Samples: 10000\n",
      "Label Counts: {0: 1005, 1: 974, 2: 1032, 3: 1016, 4: 999, 5: 937, 6: 1030, 7: 1001, 8: 1025, 9: 981}\n",
      "First 20 Labels: [6, 9, 9, 4, 1, 1, 2, 7, 8, 3, 4, 7, 7, 2, 9, 9, 9, 3, 2, 6]\n",
      "\n",
      "Example of Image 6:\n",
      "Image - Min Value: 7 Max Value: 249\n",
      "Image - Shape: (32, 32, 3)\n",
      "Label - Label Id: 2 Name: bird\n"
     ]
    },
    {
     "data": {
      "image/png": "[encoded data removed]",
      "text/plain": [
       "<matplotlib.figure.Figure at 0x117d28908>"
      ]
     },
     "metadata": {
      "image/png": {
       "height": 250,
       "width": 253
      }
     },
     "output_type": "display_data"
    }
   ],
   "source": [
    "%matplotlib inline\n",
    "%config InlineBackend.figure_format = 'retina'\n",
    "\n",
    "import helper\n",
    "import numpy as np\n",
    "\n",
    "# Explore the dataset\n",
    "batch_id = 1\n",
    "sample_id = 6\n",
    "helper.display_stats(cifar10_dataset_folder_path, batch_id, sample_id)"
   ]
  },
  {
   "cell_type": "markdown",
   "metadata": {},
   "source": [
    "## Implement Preprocess Functions\n",
    "### Normalize\n",
    "In the cell below, implement the `normalize` function to take in image data, `x`, and return it as a normalized Numpy array. The values should be in the range of 0 to 1, inclusive.  The return object should be the same shape as `x`."
   ]
  },
  {
   "cell_type": "code",
   "execution_count": 129,
   "metadata": {},
   "outputs": [
    {
     "name": "stdout",
     "output_type": "stream",
     "text": [
      "Tests Passed\n"
     ]
    }
   ],
   "source": [
    "def normalize(x):\n",
    "    \"\"\"\n",
    "    Normalize a list of sample image data in the range of 0 to 1\n",
    "    : x: List of image data.  The image shape is (32, 32, 3)\n",
    "    : return: Numpy array of normalize data\n",
    "    \"\"\"\n",
    "    # TODO: Implement Function\n",
    "    return x/255\n",
    "\n",
    "\n",
    "\"\"\"\n",
    "DON'T MODIFY ANYTHING IN THIS CELL THAT IS BELOW THIS LINE\n",
    "\"\"\"\n",
    "tests.test_normalize(normalize)"
   ]
  },
  {
   "cell_type": "markdown",
   "metadata": {},
   "source": [
    "### One-hot encode\n",
    "Just like the previous code cell, you'll be implementing a function for preprocessing.  This time, you'll implement the `one_hot_encode` function. The input, `x`, are a list of labels.  Implement the function to return the list of labels as One-Hot encoded Numpy array.  The possible values for labels are 0 to 9. The one-hot encoding function should return the same encoding for each value between each call to `one_hot_encode`.  Make sure to save the map of encodings outside the function.\n",
    "\n",
    "**Hint:**\n",
    "\n",
    "Look into LabelBinarizer in the preprocessing module of sklearn."
   ]
  },
  {
   "cell_type": "code",
   "execution_count": 130,
   "metadata": {},
   "outputs": [
    {
     "name": "stdout",
     "output_type": "stream",
     "text": [
      "[0 1 2 3 4 5 6 7 8 9]\n",
      "[0 1 2 3 4 5 6 7 8 9]\n",
      "Tests Passed\n"
     ]
    }
   ],
   "source": [
    "from sklearn import preprocessing\n",
    "\n",
    "def one_hot_encode(x):\n",
    "    \"\"\"\n",
    "    One hot encode a list of sample labels. Return a one-hot encoded vector for each label.\n",
    "    : x: List of sample Labels\n",
    "    : return: Numpy array of one-hot encoded labels\n",
    "    \"\"\"\n",
    "    # TODO: Implement Function\n",
    "    lb = preprocessing.LabelBinarizer()\n",
    "    lb.fit([0, 1, 2, 3, 4, 5, 6, 7, 8, 9])\n",
    "    print(lb.classes_)\n",
    "    return lb.transform(x)\n",
    "\n",
    "\n",
    "\"\"\"\n",
    "DON'T MODIFY ANYTHING IN THIS CELL THAT IS BELOW THIS LINE\n",
    "\"\"\"\n",
    "tests.test_one_hot_encode(one_hot_encode)"
   ]
  },
  {
   "cell_type": "markdown",
   "metadata": {},
   "source": [
    "### Randomize Data\n",
    "As you saw from exploring the data above, the order of the samples are randomized.  It doesn't hurt to randomize it again, but you don't need to for this dataset."
   ]
  },
  {
   "cell_type": "markdown",
   "metadata": {},
   "source": [
    "## Preprocess all the data and save it\n",
    "Running the code cell below will preprocess all the CIFAR-10 data and save it to file. The code below also uses 10% of the training data for validation."
   ]
  },
  {
   "cell_type": "code",
   "execution_count": 131,
   "metadata": {},
   "outputs": [
    {
     "name": "stdout",
     "output_type": "stream",
     "text": [
      "[0 1 2 3 4 5 6 7 8 9]\n",
      "[0 1 2 3 4 5 6 7 8 9]\n",
      "[0 1 2 3 4 5 6 7 8 9]\n",
      "[0 1 2 3 4 5 6 7 8 9]\n",
      "[0 1 2 3 4 5 6 7 8 9]\n",
      "[0 1 2 3 4 5 6 7 8 9]\n",
      "[0 1 2 3 4 5 6 7 8 9]\n"
     ]
    }
   ],
   "source": [
    "\"\"\"\n",
    "DON'T MODIFY ANYTHING IN THIS CELL\n",
    "\"\"\"\n",
    "# Preprocess Training, Validation, and Testing Data\n",
    "helper.preprocess_and_save_data(cifar10_dataset_folder_path, normalize, one_hot_encode)"
   ]
  },
  {
   "cell_type": "markdown",
   "metadata": {},
   "source": [
    "# Check Point\n",
    "This is your first checkpoint.  If you ever decide to come back to this notebook or have to restart the notebook, you can start from here.  The preprocessed data has been saved to disk."
   ]
  },
  {
   "cell_type": "code",
   "execution_count": 132,
   "metadata": {
    "collapsed": true
   },
   "outputs": [],
   "source": [
    "\"\"\"\n",
    "DON'T MODIFY ANYTHING IN THIS CELL\n",
    "\"\"\"\n",
    "import pickle\n",
    "import problem_unittests as tests\n",
    "import helper\n",
    "\n",
    "# Load the Preprocessed Validation data\n",
    "valid_features, valid_labels = pickle.load(open('preprocess_validation.p', mode='rb'))"
   ]
  },
  {
   "cell_type": "markdown",
   "metadata": {},
   "source": [
    "## Build the network\n",
    "For the neural network, you'll build each layer into a function.  Most of the code you've seen has been outside of functions. To test your code more thoroughly, we require that you put each layer in a function.  This allows us to give you better feedback and test for simple mistakes using our unittests before you submit your project.\n",
    "\n",
    ">**Note:** If you're finding it hard to dedicate enough time for this course each week, we've provided a small shortcut to this part of the project. In the next couple of problems, you'll have the option to use classes from the [TensorFlow Layers](https://www.tensorflow.org/api_docs/python/tf/layers) or [TensorFlow Layers (contrib)](https://www.tensorflow.org/api_guides/python/contrib.layers) packages to build each layer, except the layers you build in the \"Convolutional and Max Pooling Layer\" section.  TF Layers is similar to Keras's and TFLearn's abstraction to layers, so it's easy to pickup.\n",
    "\n",
    ">However, if you would like to get the most out of this course, try to solve all the problems _without_ using anything from the TF Layers packages. You **can** still use classes from other packages that happen to have the same name as ones you find in TF Layers! For example, instead of using the TF Layers version of the `conv2d` class, [tf.layers.conv2d](https://www.tensorflow.org/api_docs/python/tf/layers/conv2d), you would want to use the TF Neural Network version of `conv2d`, [tf.nn.conv2d](https://www.tensorflow.org/api_docs/python/tf/nn/conv2d). \n",
    "\n",
    "Let's begin!\n",
    "\n",
    "### Input\n",
    "The neural network needs to read the image data, one-hot encoded labels, and dropout keep probability. Implement the following functions\n",
    "* Implement `neural_net_image_input`\n",
    " * Return a [TF Placeholder](https://www.tensorflow.org/api_docs/python/tf/placeholder)\n",
    " * Set the shape using `image_shape` with batch size set to `None`.\n",
    " * Name the TensorFlow placeholder \"x\" using the TensorFlow `name` parameter in the [TF Placeholder](https://www.tensorflow.org/api_docs/python/tf/placeholder).\n",
    "* Implement `neural_net_label_input`\n",
    " * Return a [TF Placeholder](https://www.tensorflow.org/api_docs/python/tf/placeholder)\n",
    " * Set the shape using `n_classes` with batch size set to `None`.\n",
    " * Name the TensorFlow placeholder \"y\" using the TensorFlow `name` parameter in the [TF Placeholder](https://www.tensorflow.org/api_docs/python/tf/placeholder).\n",
    "* Implement `neural_net_keep_prob_input`\n",
    " * Return a [TF Placeholder](https://www.tensorflow.org/api_docs/python/tf/placeholder) for dropout keep probability.\n",
    " * Name the TensorFlow placeholder \"keep_prob\" using the TensorFlow `name` parameter in the [TF Placeholder](https://www.tensorflow.org/api_docs/python/tf/placeholder).\n",
    "\n",
    "These names will be used at the end of the project to load your saved model.\n",
    "\n",
    "Note: `None` for shapes in TensorFlow allow for a dynamic size."
   ]
  },
  {
   "cell_type": "code",
   "execution_count": 133,
   "metadata": {},
   "outputs": [
    {
     "name": "stdout",
     "output_type": "stream",
     "text": [
      "Image Input Tests Passed.\n",
      "Label Input Tests Passed.\n",
      "Keep Prob Tests Passed.\n"
     ]
    }
   ],
   "source": [
    "import tensorflow as tf\n",
    "\n",
    "def neural_net_image_input(image_shape):\n",
    "    \"\"\"\n",
    "    Return a Tensor for a batch of image input\n",
    "    : image_shape: Shape of the images\n",
    "    : return: Tensor for image input.\n",
    "    \"\"\"\n",
    "    # TODO: Implement Function\n",
    "    return tf.placeholder(tf.float32,shape=[None, image_shape[0], image_shape[1], image_shape[2]], name=\"x\")\n",
    "\n",
    "\n",
    "def neural_net_label_input(n_classes):\n",
    "    \"\"\"\n",
    "    Return a Tensor for a batch of label input\n",
    "    : n_classes: Number of classes\n",
    "    : return: Tensor for label input.\n",
    "    \"\"\"\n",
    "    # TODO: Implement Function\n",
    "    return tf.placeholder(tf.float32,shape=[None, n_classes], name=\"y\")\n",
    "\n",
    "\n",
    "def neural_net_keep_prob_input():\n",
    "    \"\"\"\n",
    "    Return a Tensor for keep probability\n",
    "    : return: Tensor for keep probability.\n",
    "    \"\"\"\n",
    "    # TODO: Implement Function\n",
    "    return tf.placeholder(tf.float32, name=\"keep_prob\")\n",
    "\n",
    "\n",
    "\"\"\"\n",
    "DON'T MODIFY ANYTHING IN THIS CELL THAT IS BELOW THIS LINE\n",
    "\"\"\"\n",
    "tf.reset_default_graph()\n",
    "tests.test_nn_image_inputs(neural_net_image_input)\n",
    "tests.test_nn_label_inputs(neural_net_label_input)\n",
    "tests.test_nn_keep_prob_inputs(neural_net_keep_prob_input)"
   ]
  },
  {
   "cell_type": "markdown",
   "metadata": {},
   "source": [
    "### Convolution and Max Pooling Layer\n",
    "Convolution layers have a lot of success with images. For this code cell, you should implement the function `conv2d_maxpool` to apply convolution then max pooling:\n",
    "* Create the weight and bias using `conv_ksize`, `conv_num_outputs` and the shape of `x_tensor`.\n",
    "* Apply a convolution to `x_tensor` using weight and `conv_strides`.\n",
    " * We recommend you use same padding, but you're welcome to use any padding.\n",
    "* Add bias\n",
    "* Add a nonlinear activation to the convolution.\n",
    "* Apply Max Pooling using `pool_ksize` and `pool_strides`.\n",
    " * We recommend you use same padding, but you're welcome to use any padding.\n",
    "\n",
    "**Note:** You **can't** use [TensorFlow Layers](https://www.tensorflow.org/api_docs/python/tf/layers) or [TensorFlow Layers (contrib)](https://www.tensorflow.org/api_guides/python/contrib.layers) for **this** layer, but you can still use TensorFlow's [Neural Network](https://www.tensorflow.org/api_docs/python/tf/nn) package. You may still use the shortcut option for all the **other** layers.\n",
    "\n",
    "** Hint: **\n",
    "\n",
    "When unpacking values as an argument in Python, look into the [unpacking](https://docs.python.org/3/tutorial/controlflow.html#unpacking-argument-lists) operator. "
   ]
  },
  {
   "cell_type": "code",
   "execution_count": 134,
   "metadata": {},
   "outputs": [
    {
     "name": "stdout",
     "output_type": "stream",
     "text": [
      "10\n",
      "10\n",
      "10\n",
      "10\n",
      "10\n",
      "Tests Passed\n"
     ]
    }
   ],
   "source": [
    "def conv2d_maxpool(x_tensor, conv_num_outputs, conv_ksize, conv_strides, pool_ksize, pool_strides):\n",
    "    \"\"\"\n",
    "    Apply convolution then max pooling to x_tensor\n",
    "    :param x_tensor: TensorFlow Tensor\n",
    "    :param conv_num_outputs: Number of outputs for the convolutional layer\n",
    "    :param conv_ksize: kernal size 2-D Tuple for the convolutional layer\n",
    "    :param conv_strides: Stride 2-D Tuple for convolution\n",
    "    :param pool_ksize: kernal size 2-D Tuple for pool\n",
    "    :param pool_strides: Stride 2-D Tuple for pool\n",
    "    : return: A tensor that represents convolution and max pooling of x_tensor\n",
    "    \"\"\"\n",
    "    print(conv_num_outputs)\n",
    "    print(conv_num_outputs)\n",
    "    print(conv_num_outputs)\n",
    "    print(conv_num_outputs)\n",
    "    print(conv_num_outputs)\n",
    "    # TODO: Implement Function\n",
    "    W = tf.Variable(tf.random_normal([conv_ksize[0], conv_ksize[1], x_tensor.get_shape().as_list()[3], conv_num_outputs]))\n",
    "    b = tf.Variable(tf.random_normal([conv_num_outputs]))\n",
    "    x_tensor = tf.nn.conv2d(x_tensor, W, strides=[1, conv_strides[0], conv_strides[1], 1], padding='SAME')\n",
    "    x_tensor = tf.nn.bias_add(x_tensor, b)\n",
    "    x_tensor = tf.nn.relu(x_tensor)\n",
    "    x_tensor = tf.nn.max_pool(\n",
    "        x_tensor,\n",
    "        ksize=[1, pool_ksize[0], pool_ksize[1], 1],\n",
    "        strides=[1, pool_strides[0], pool_strides[1], 1],\n",
    "        padding='SAME')\n",
    "    return x_tensor \n",
    "\n",
    "\n",
    "\"\"\"\n",
    "DON'T MODIFY ANYTHING IN THIS CELL THAT IS BELOW THIS LINE\n",
    "\"\"\"\n",
    "tests.test_con_pool(conv2d_maxpool)"
   ]
  },
  {
   "cell_type": "markdown",
   "metadata": {},
   "source": [
    "### Flatten Layer\n",
    "Implement the `flatten` function to change the dimension of `x_tensor` from a 4-D tensor to a 2-D tensor.  The output should be the shape (*Batch Size*, *Flattened Image Size*). Shortcut option: you can use classes from the [TensorFlow Layers](https://www.tensorflow.org/api_docs/python/tf/layers) or [TensorFlow Layers (contrib)](https://www.tensorflow.org/api_guides/python/contrib.layers) packages for this layer. For more of a challenge, only use other TensorFlow packages."
   ]
  },
  {
   "cell_type": "code",
   "execution_count": 148,
   "metadata": {},
   "outputs": [
    {
     "name": "stdout",
     "output_type": "stream",
     "text": [
      "Tests Passed\n"
     ]
    }
   ],
   "source": [
    "def flatten(x_tensor):\n",
    "    \"\"\"\n",
    "    Flatten x_tensor to (Batch Size, Flattened Image Size)\n",
    "    : x_tensor: A tensor of size (Batch Size, ...), where ... are the image dimensions.\n",
    "    : return: A tensor of size (Batch Size, Flattened Image Size).\n",
    "    \"\"\"\n",
    "    # TODO: Implement Function\n",
    "    return tf.reshape(x_tensor, [-1, \n",
    "                                x_tensor.get_shape().as_list()[1]*\n",
    "                                 x_tensor.get_shape().as_list()[2]*\n",
    "                                 x_tensor.get_shape().as_list()[3]])\n",
    "\n",
    "\"\"\"\n",
    "DON'T MODIFY ANYTHING IN THIS CELL THAT IS BELOW THIS LINE\n",
    "\"\"\"\n",
    "tests.test_flatten(flatten)"
   ]
  },
  {
   "cell_type": "markdown",
   "metadata": {},
   "source": [
    "### Fully-Connected Layer\n",
    "Implement the `fully_conn` function to apply a fully connected layer to `x_tensor` with the shape (*Batch Size*, *num_outputs*). Shortcut option: you can use classes from the [TensorFlow Layers](https://www.tensorflow.org/api_docs/python/tf/layers) or [TensorFlow Layers (contrib)](https://www.tensorflow.org/api_guides/python/contrib.layers) packages for this layer. For more of a challenge, only use other TensorFlow packages."
   ]
  },
  {
   "cell_type": "code",
   "execution_count": 149,
   "metadata": {},
   "outputs": [
    {
     "name": "stdout",
     "output_type": "stream",
     "text": [
      "Tests Passed\n"
     ]
    }
   ],
   "source": [
    "def fully_conn(x_tensor, num_outputs):\n",
    "    \"\"\"\n",
    "    Apply a fully connected layer to x_tensor using weight and bias\n",
    "    : x_tensor: A 2-D tensor where the first dimension is batch size.\n",
    "    : num_outputs: The number of output that the new tensor should be.\n",
    "    : return: A 2-D tensor where the second dimension is num_outputs.\n",
    "    \"\"\"\n",
    "    # TODO: Implement Function\n",
    "    W = tf.Variable(tf.random_normal([x_tensor.get_shape().as_list()[1], num_outputs], stddev=.1))\n",
    "    b = tf.Variable(tf.random_normal([num_outputs], stddev=.1))\n",
    "    x = tf.add(tf.matmul(x_tensor, W), b)\n",
    "    return tf.nn.relu(x)\n",
    "\n",
    "\n",
    "\"\"\"\n",
    "DON'T MODIFY ANYTHING IN THIS CELL THAT IS BELOW THIS LINE\n",
    "\"\"\"\n",
    "tests.test_fully_conn(fully_conn)"
   ]
  },
  {
   "cell_type": "markdown",
   "metadata": {},
   "source": [
    "### Output Layer\n",
    "Implement the `output` function to apply a fully connected layer to `x_tensor` with the shape (*Batch Size*, *num_outputs*). Shortcut option: you can use classes from the [TensorFlow Layers](https://www.tensorflow.org/api_docs/python/tf/layers) or [TensorFlow Layers (contrib)](https://www.tensorflow.org/api_guides/python/contrib.layers) packages for this layer. For more of a challenge, only use other TensorFlow packages.\n",
    "\n",
    "**Note:** Activation, softmax, or cross entropy should **not** be applied to this."
   ]
  },
  {
   "cell_type": "code",
   "execution_count": 150,
   "metadata": {},
   "outputs": [
    {
     "name": "stdout",
     "output_type": "stream",
     "text": [
      "Tests Passed\n"
     ]
    }
   ],
   "source": [
    "def output(x_tensor, num_outputs):\n",
    "    \"\"\"\n",
    "    Apply a output layer to x_tensor using weight and bias\n",
    "    : x_tensor: A 2-D tensor where the first dimension is batch size.\n",
    "    : num_outputs: The number of output that the new tensor should be.\n",
    "    : return: A 2-D tensor where the second dimension is num_outputs.\n",
    "    \"\"\"\n",
    "    # TODO: Implement Function\n",
    "    W = tf.Variable(tf.random_normal([x_tensor.get_shape().as_list()[1], num_outputs], stddev=.1))\n",
    "    b = tf.Variable(tf.random_normal([num_outputs], stddev=.1))\n",
    "    return tf.add(tf.matmul(x_tensor, W), b)\n",
    "\n",
    "\n",
    "\"\"\"\n",
    "DON'T MODIFY ANYTHING IN THIS CELL THAT IS BELOW THIS LINE\n",
    "\"\"\"\n",
    "tests.test_output(output)"
   ]
  },
  {
   "cell_type": "markdown",
   "metadata": {},
   "source": [
    "### Create Convolutional Model\n",
    "Implement the function `conv_net` to create a convolutional neural network model. The function takes in a batch of images, `x`, and outputs logits.  Use the layers you created above to create this model:\n",
    "\n",
    "* Apply 1, 2, or 3 Convolution and Max Pool layers\n",
    "* Apply a Flatten Layer\n",
    "* Apply 1, 2, or 3 Fully Connected Layers\n",
    "* Apply an Output Layer\n",
    "* Return the output\n",
    "* Apply [TensorFlow's Dropout](https://www.tensorflow.org/api_docs/python/tf/nn/dropout) to one or more layers in the model using `keep_prob`. "
   ]
  },
  {
   "cell_type": "code",
   "execution_count": 151,
   "metadata": {},
   "outputs": [
    {
     "name": "stdout",
     "output_type": "stream",
     "text": [
      "24\n",
      "24\n",
      "24\n",
      "24\n",
      "24\n",
      "24\n",
      "24\n",
      "24\n",
      "24\n",
      "24\n",
      "Neural Network Built!\n"
     ]
    }
   ],
   "source": [
    "def conv_net(x, keep_prob):\n",
    "    \"\"\"\n",
    "    Create a convolutional neural network model\n",
    "    : x: Placeholder tensor that holds image data.\n",
    "    : keep_prob: Placeholder tensor that hold dropout keep probability.\n",
    "    : return: Tensor that represents logits\n",
    "    \"\"\"\n",
    "    # TODO: Apply 1, 2, or 3 Convolution and Max Pool layers\n",
    "    #    Play around with different number of outputs, kernel size and stride\n",
    "    # Function Definition from Above:\n",
    "    #    conv2d_maxpool(x_tensor, conv_num_outputs, conv_ksize, conv_strides, pool_ksize, pool_strides)\n",
    "    conv_ksize = (3,3)\n",
    "    conv_strides = (3,3)\n",
    "    pool_ksize = (3,3)\n",
    "    pool_strides = (3,3)\n",
    "    n_classes = 10\n",
    "    \n",
    "    x = conv2d_maxpool(x, 24, conv_ksize, conv_strides, pool_ksize, pool_strides)\n",
    "    #x = conv2d_maxpool(x, 64, conv_ksize, conv_strides, pool_ksize, pool_strides)\n",
    "    #x = tf.nn.relu(x)\n",
    "    #x = conv2d_maxpool(x, 80, conv_ksize, conv_strides, pool_ksize, pool_strides)\n",
    "    #x = tf.nn.relu(x)\n",
    "    \n",
    "    # TODO: Apply a Flatten Layer\n",
    "    # Function Definition from Above:\n",
    "    #   flatten(x_tensor)\n",
    "    x = flatten(x)\n",
    "\n",
    "    # TODO: Apply 1, 2, or 3 Fully Connected Layers\n",
    "    #    Play around with different number of outputs\n",
    "    # Function Definition from Above:\n",
    "    #   fully_conn(x_tensor, num_outputs)\n",
    "    num_outputs = 1024\n",
    "    x = fully_conn(x, num_outputs)\n",
    "    x = tf.nn.dropout(x, keep_prob)\n",
    "\n",
    "    # TODO: Apply an Output Layer\n",
    "    #    Set this to the number of classes\n",
    "    # Function Definition from Above:\n",
    "    #   output(x_tensor, num_outputs)\n",
    "    x = output(x, n_classes)\n",
    "    \n",
    "    # TODO: return output\n",
    "    return x\n",
    "\n",
    "\n",
    "\"\"\"\n",
    "DON'T MODIFY ANYTHING IN THIS CELL THAT IS BELOW THIS LINE\n",
    "\"\"\"\n",
    "\n",
    "##############################\n",
    "## Build the Neural Network ##\n",
    "##############################\n",
    "\n",
    "# Remove previous weights, bias, inputs, etc..\n",
    "tf.reset_default_graph()\n",
    "\n",
    "# Inputs\n",
    "x = neural_net_image_input((32, 32, 3))\n",
    "y = neural_net_label_input(10)\n",
    "keep_prob = neural_net_keep_prob_input()\n",
    "\n",
    "# Model\n",
    "logits = conv_net(x, keep_prob)\n",
    "\n",
    "# Name logits Tensor, so that is can be loaded from disk after training\n",
    "logits = tf.identity(logits, name='logits')\n",
    "\n",
    "# Loss and Optimizer\n",
    "cost = tf.reduce_mean(tf.nn.softmax_cross_entropy_with_logits(logits=logits, labels=y))\n",
    "optimizer = tf.train.AdamOptimizer().minimize(cost)\n",
    "\n",
    "# Accuracy\n",
    "correct_pred = tf.equal(tf.argmax(logits, 1), tf.argmax(y, 1))\n",
    "accuracy = tf.reduce_mean(tf.cast(correct_pred, tf.float32), name='accuracy')\n",
    "\n",
    "tests.test_conv_net(conv_net)"
   ]
  },
  {
   "cell_type": "markdown",
   "metadata": {},
   "source": [
    "## Train the Neural Network\n",
    "### Single Optimization\n",
    "Implement the function `train_neural_network` to do a single optimization.  The optimization should use `optimizer` to optimize in `session` with a `feed_dict` of the following:\n",
    "* `x` for image input\n",
    "* `y` for labels\n",
    "* `keep_prob` for keep probability for dropout\n",
    "\n",
    "This function will be called for each batch, so `tf.global_variables_initializer()` has already been called.\n",
    "\n",
    "Note: Nothing needs to be returned. This function is only optimizing the neural network."
   ]
  },
  {
   "cell_type": "code",
   "execution_count": 152,
   "metadata": {},
   "outputs": [
    {
     "name": "stdout",
     "output_type": "stream",
     "text": [
      "Tests Passed\n"
     ]
    }
   ],
   "source": [
    "def train_neural_network(session, optimizer, keep_probability, feature_batch, label_batch):\n",
    "    \"\"\"\n",
    "    Optimize the session on a batch of images and labels\n",
    "    : session: Current TensorFlow session\n",
    "    : optimizer: TensorFlow optimizer function\n",
    "    : keep_probability: keep probability\n",
    "    : feature_batch: Batch of Numpy image data\n",
    "    : label_batch: Batch of Numpy label data\n",
    "    \"\"\"\n",
    "    # TODO: Implement Function\n",
    "    session.run(optimizer, feed_dict={\n",
    "                x: feature_batch,\n",
    "                y: label_batch,\n",
    "                keep_prob: keep_probability}\n",
    "            )\n",
    "    pass\n",
    "\n",
    "\n",
    "\"\"\"\n",
    "DON'T MODIFY ANYTHING IN THIS CELL THAT IS BELOW THIS LINE\n",
    "\"\"\"\n",
    "tests.test_train_nn(train_neural_network)"
   ]
  },
  {
   "cell_type": "markdown",
   "metadata": {},
   "source": [
    "### Show Stats\n",
    "Implement the function `print_stats` to print loss and validation accuracy.  Use the global variables `valid_features` and `valid_labels` to calculate validation accuracy.  Use a keep probability of `1.0` to calculate the loss and validation accuracy."
   ]
  },
  {
   "cell_type": "code",
   "execution_count": 153,
   "metadata": {
    "collapsed": true
   },
   "outputs": [],
   "source": [
    "def print_stats(session, feature_batch, label_batch, cost, accuracy):\n",
    "    \"\"\"\n",
    "    Print information about loss and validation accuracy\n",
    "    : session: Current TensorFlow session\n",
    "    : feature_batch: Batch of Numpy image data\n",
    "    : label_batch: Batch of Numpy label data\n",
    "    : cost: TensorFlow cost function\n",
    "    : accuracy: TensorFlow accuracy function\n",
    "    \"\"\"\n",
    "    # TODO: Implement Function\n",
    "    loss = session.run(cost, feed_dict={\n",
    "                x: feature_batch,\n",
    "                y: label_batch,\n",
    "                keep_prob: 1.})\n",
    "    valid_acc = session.run(accuracy, feed_dict={\n",
    "                x: valid_features,\n",
    "                y: valid_labels,\n",
    "                keep_prob: 1.})\n",
    "    print(\"Current Validation Loss: {} - Current Validation Accuracy: {}%\".format(round(float(loss), 3),\n",
    "                                                               round(float(valid_acc),3)*100.0)\n",
    "         )\n",
    "    pass"
   ]
  },
  {
   "cell_type": "markdown",
   "metadata": {},
   "source": [
    "### Hyperparameters\n",
    "Tune the following parameters:\n",
    "* Set `epochs` to the number of iterations until the network stops learning or start overfitting\n",
    "* Set `batch_size` to the highest number that your machine has memory for.  Most people set them to common sizes of memory:\n",
    " * 64\n",
    " * 128\n",
    " * 256\n",
    " * ...\n",
    "* Set `keep_probability` to the probability of keeping a node using dropout"
   ]
  },
  {
   "cell_type": "code",
   "execution_count": 154,
   "metadata": {
    "collapsed": true
   },
   "outputs": [],
   "source": [
    "# TODO: Tune Parameters\n",
    "epochs = 50\n",
    "batch_size = 100\n",
    "keep_probability = .75"
   ]
  },
  {
   "cell_type": "markdown",
   "metadata": {},
   "source": [
    "### Train on a Single CIFAR-10 Batch\n",
    "Instead of training the neural network on all the CIFAR-10 batches of data, let's use a single batch. This should save time while you iterate on the model to get a better accuracy.  Once the final validation accuracy is 50% or greater, run the model on all the data in the next section."
   ]
  },
  {
   "cell_type": "code",
   "execution_count": 155,
   "metadata": {},
   "outputs": [
    {
     "name": "stdout",
     "output_type": "stream",
     "text": [
      "Checking the Training on a Single Batch...\n",
      "Epoch  1, CIFAR-10 Batch 1:  Current Validation Loss: 2.467 - Current Validation Accuracy: 33.0%\n",
      "Epoch  2, CIFAR-10 Batch 1:  Current Validation Loss: 2.06 - Current Validation Accuracy: 38.3%\n",
      "Epoch  3, CIFAR-10 Batch 1:  Current Validation Loss: 1.944 - Current Validation Accuracy: 41.6%\n",
      "Epoch  4, CIFAR-10 Batch 1:  Current Validation Loss: 1.79 - Current Validation Accuracy: 43.7%\n",
      "Epoch  5, CIFAR-10 Batch 1:  Current Validation Loss: 1.732 - Current Validation Accuracy: 45.0%\n",
      "Epoch  6, CIFAR-10 Batch 1:  Current Validation Loss: 1.653 - Current Validation Accuracy: 45.800000000000004%\n",
      "Epoch  7, CIFAR-10 Batch 1:  Current Validation Loss: 1.593 - Current Validation Accuracy: 48.5%\n",
      "Epoch  8, CIFAR-10 Batch 1:  Current Validation Loss: 1.54 - Current Validation Accuracy: 48.1%\n",
      "Epoch  9, CIFAR-10 Batch 1:  Current Validation Loss: 1.419 - Current Validation Accuracy: 48.9%\n",
      "Epoch 10, CIFAR-10 Batch 1:  Current Validation Loss: 1.372 - Current Validation Accuracy: 49.9%\n",
      "Epoch 11, CIFAR-10 Batch 1:  Current Validation Loss: 1.324 - Current Validation Accuracy: 50.1%\n",
      "Epoch 12, CIFAR-10 Batch 1:  Current Validation Loss: 1.312 - Current Validation Accuracy: 50.9%\n",
      "Epoch 13, CIFAR-10 Batch 1:  Current Validation Loss: 1.245 - Current Validation Accuracy: 50.7%\n",
      "Epoch 14, CIFAR-10 Batch 1:  Current Validation Loss: 1.185 - Current Validation Accuracy: 51.1%\n",
      "Epoch 15, CIFAR-10 Batch 1:  Current Validation Loss: 1.131 - Current Validation Accuracy: 51.6%\n",
      "Epoch 16, CIFAR-10 Batch 1:  Current Validation Loss: 1.074 - Current Validation Accuracy: 51.9%\n",
      "Epoch 17, CIFAR-10 Batch 1:  Current Validation Loss: 1.097 - Current Validation Accuracy: 51.9%\n",
      "Epoch 18, CIFAR-10 Batch 1:  Current Validation Loss: 0.989 - Current Validation Accuracy: 51.9%\n",
      "Epoch 19, CIFAR-10 Batch 1:  Current Validation Loss: 0.984 - Current Validation Accuracy: 52.7%\n",
      "Epoch 20, CIFAR-10 Batch 1:  Current Validation Loss: 0.986 - Current Validation Accuracy: 52.300000000000004%\n",
      "Epoch 21, CIFAR-10 Batch 1:  Current Validation Loss: 0.933 - Current Validation Accuracy: 52.800000000000004%\n",
      "Epoch 22, CIFAR-10 Batch 1:  Current Validation Loss: 0.886 - Current Validation Accuracy: 53.0%\n",
      "Epoch 23, CIFAR-10 Batch 1:  Current Validation Loss: 0.83 - Current Validation Accuracy: 52.1%\n",
      "Epoch 24, CIFAR-10 Batch 1:  Current Validation Loss: 0.798 - Current Validation Accuracy: 53.7%\n",
      "Epoch 25, CIFAR-10 Batch 1:  Current Validation Loss: 0.764 - Current Validation Accuracy: 52.800000000000004%\n",
      "Epoch 26, CIFAR-10 Batch 1:  Current Validation Loss: 0.742 - Current Validation Accuracy: 52.7%\n",
      "Epoch 27, CIFAR-10 Batch 1:  Current Validation Loss: 0.723 - Current Validation Accuracy: 53.2%\n",
      "Epoch 28, CIFAR-10 Batch 1:  Current Validation Loss: 0.701 - Current Validation Accuracy: 53.0%\n",
      "Epoch 29, CIFAR-10 Batch 1:  Current Validation Loss: 0.646 - Current Validation Accuracy: 53.1%\n",
      "Epoch 30, CIFAR-10 Batch 1:  Current Validation Loss: 0.655 - Current Validation Accuracy: 53.5%\n",
      "Epoch 31, CIFAR-10 Batch 1:  Current Validation Loss: 0.587 - Current Validation Accuracy: 53.300000000000004%\n",
      "Epoch 32, CIFAR-10 Batch 1:  Current Validation Loss: 0.598 - Current Validation Accuracy: 53.5%\n",
      "Epoch 33, CIFAR-10 Batch 1:  Current Validation Loss: 0.559 - Current Validation Accuracy: 53.300000000000004%\n",
      "Epoch 34, CIFAR-10 Batch 1:  Current Validation Loss: 0.535 - Current Validation Accuracy: 53.2%\n",
      "Epoch 35, CIFAR-10 Batch 1:  Current Validation Loss: 0.497 - Current Validation Accuracy: 53.7%\n",
      "Epoch 36, CIFAR-10 Batch 1:  Current Validation Loss: 0.493 - Current Validation Accuracy: 53.5%\n",
      "Epoch 37, CIFAR-10 Batch 1:  Current Validation Loss: 0.485 - Current Validation Accuracy: 52.800000000000004%\n",
      "Epoch 38, CIFAR-10 Batch 1:  Current Validation Loss: 0.429 - Current Validation Accuracy: 53.5%\n",
      "Epoch 39, CIFAR-10 Batch 1:  Current Validation Loss: 0.4 - Current Validation Accuracy: 53.300000000000004%\n",
      "Epoch 40, CIFAR-10 Batch 1:  Current Validation Loss: 0.386 - Current Validation Accuracy: 53.6%\n",
      "Epoch 41, CIFAR-10 Batch 1:  Current Validation Loss: 0.399 - Current Validation Accuracy: 53.2%\n",
      "Epoch 42, CIFAR-10 Batch 1:  Current Validation Loss: 0.365 - Current Validation Accuracy: 53.5%\n",
      "Epoch 43, CIFAR-10 Batch 1:  Current Validation Loss: 0.303 - Current Validation Accuracy: 52.6%\n",
      "Epoch 44, CIFAR-10 Batch 1:  Current Validation Loss: 0.294 - Current Validation Accuracy: 52.6%\n",
      "Epoch 45, CIFAR-10 Batch 1:  Current Validation Loss: 0.322 - Current Validation Accuracy: 52.800000000000004%\n",
      "Epoch 46, CIFAR-10 Batch 1:  Current Validation Loss: 0.296 - Current Validation Accuracy: 52.800000000000004%\n",
      "Epoch 47, CIFAR-10 Batch 1:  Current Validation Loss: 0.267 - Current Validation Accuracy: 53.7%\n",
      "Epoch 48, CIFAR-10 Batch 1:  Current Validation Loss: 0.224 - Current Validation Accuracy: 53.0%\n",
      "Epoch 49, CIFAR-10 Batch 1:  Current Validation Loss: 0.253 - Current Validation Accuracy: 52.5%\n",
      "Epoch 50, CIFAR-10 Batch 1:  Current Validation Loss: 0.221 - Current Validation Accuracy: 52.7%\n"
     ]
    }
   ],
   "source": [
    "\"\"\"\n",
    "DON'T MODIFY ANYTHING IN THIS CELL\n",
    "\"\"\"\n",
    "print('Checking the Training on a Single Batch...')\n",
    "with tf.Session() as sess:\n",
    "    # Initializing the variables\n",
    "    sess.run(tf.global_variables_initializer())\n",
    "    \n",
    "    # Training cycle\n",
    "    for epoch in range(epochs):\n",
    "        batch_i = 1\n",
    "        for batch_features, batch_labels in helper.load_preprocess_training_batch(batch_i, batch_size):\n",
    "            train_neural_network(sess, optimizer, keep_probability, batch_features, batch_labels)\n",
    "        print('Epoch {:>2}, CIFAR-10 Batch {}:  '.format(epoch + 1, batch_i), end='')\n",
    "        print_stats(sess, batch_features, batch_labels, cost, accuracy)"
   ]
  },
  {
   "cell_type": "markdown",
   "metadata": {},
   "source": [
    "### Fully Train the Model\n",
    "Now that you got a good accuracy with a single CIFAR-10 batch, try it with all five batches."
   ]
  },
  {
   "cell_type": "code",
   "execution_count": 156,
   "metadata": {},
   "outputs": [
    {
     "name": "stdout",
     "output_type": "stream",
     "text": [
      "Training...\n",
      "Epoch  1, CIFAR-10 Batch 1:  Current Validation Loss: 2.359 - Current Validation Accuracy: 32.2%\n",
      "Epoch  1, CIFAR-10 Batch 2:  Current Validation Loss: 1.751 - Current Validation Accuracy: 37.0%\n",
      "Epoch  1, CIFAR-10 Batch 3:  Current Validation Loss: 1.568 - Current Validation Accuracy: 39.2%\n",
      "Epoch  1, CIFAR-10 Batch 4:  Current Validation Loss: 1.549 - Current Validation Accuracy: 41.9%\n",
      "Epoch  1, CIFAR-10 Batch 5:  Current Validation Loss: 1.57 - Current Validation Accuracy: 43.4%\n",
      "Epoch  2, CIFAR-10 Batch 1:  Current Validation Loss: 1.849 - Current Validation Accuracy: 44.0%\n",
      "Epoch  2, CIFAR-10 Batch 2:  Current Validation Loss: 1.431 - Current Validation Accuracy: 46.5%\n",
      "Epoch  2, CIFAR-10 Batch 3:  Current Validation Loss: 1.384 - Current Validation Accuracy: 46.1%\n",
      "Epoch  2, CIFAR-10 Batch 4:  Current Validation Loss: 1.426 - Current Validation Accuracy: 47.8%\n",
      "Epoch  2, CIFAR-10 Batch 5:  Current Validation Loss: 1.416 - Current Validation Accuracy: 48.6%\n",
      "Epoch  3, CIFAR-10 Batch 1:  Current Validation Loss: 1.625 - Current Validation Accuracy: 49.4%\n",
      "Epoch  3, CIFAR-10 Batch 2:  Current Validation Loss: 1.342 - Current Validation Accuracy: 49.4%\n",
      "Epoch  3, CIFAR-10 Batch 3:  Current Validation Loss: 1.26 - Current Validation Accuracy: 49.0%\n",
      "Epoch  3, CIFAR-10 Batch 4:  Current Validation Loss: 1.324 - Current Validation Accuracy: 49.9%\n",
      "Epoch  3, CIFAR-10 Batch 5:  Current Validation Loss: 1.352 - Current Validation Accuracy: 50.9%\n",
      "Epoch  4, CIFAR-10 Batch 1:  Current Validation Loss: 1.58 - Current Validation Accuracy: 50.5%\n",
      "Epoch  4, CIFAR-10 Batch 2:  Current Validation Loss: 1.261 - Current Validation Accuracy: 51.300000000000004%\n",
      "Epoch  4, CIFAR-10 Batch 3:  Current Validation Loss: 1.198 - Current Validation Accuracy: 50.8%\n",
      "Epoch  4, CIFAR-10 Batch 4:  Current Validation Loss: 1.276 - Current Validation Accuracy: 51.7%\n",
      "Epoch  4, CIFAR-10 Batch 5:  Current Validation Loss: 1.276 - Current Validation Accuracy: 52.5%\n",
      "Epoch  5, CIFAR-10 Batch 1:  Current Validation Loss: 1.446 - Current Validation Accuracy: 52.300000000000004%\n",
      "Epoch  5, CIFAR-10 Batch 2:  Current Validation Loss: 1.208 - Current Validation Accuracy: 52.7%\n",
      "Epoch  5, CIFAR-10 Batch 3:  Current Validation Loss: 1.12 - Current Validation Accuracy: 52.1%\n",
      "Epoch  5, CIFAR-10 Batch 4:  Current Validation Loss: 1.202 - Current Validation Accuracy: 53.400000000000006%\n",
      "Epoch  5, CIFAR-10 Batch 5:  Current Validation Loss: 1.27 - Current Validation Accuracy: 52.2%\n",
      "Epoch  6, CIFAR-10 Batch 1:  Current Validation Loss: 1.422 - Current Validation Accuracy: 53.2%\n",
      "Epoch  6, CIFAR-10 Batch 2:  Current Validation Loss: 1.169 - Current Validation Accuracy: 53.800000000000004%\n",
      "Epoch  6, CIFAR-10 Batch 3:  Current Validation Loss: 1.087 - Current Validation Accuracy: 53.0%\n",
      "Epoch  6, CIFAR-10 Batch 4:  Current Validation Loss: 1.154 - Current Validation Accuracy: 53.800000000000004%\n",
      "Epoch  6, CIFAR-10 Batch 5:  Current Validation Loss: 1.188 - Current Validation Accuracy: 54.900000000000006%\n",
      "Epoch  7, CIFAR-10 Batch 1:  Current Validation Loss: 1.313 - Current Validation Accuracy: 54.6%\n",
      "Epoch  7, CIFAR-10 Batch 2:  Current Validation Loss: 1.085 - Current Validation Accuracy: 55.00000000000001%\n",
      "Epoch  7, CIFAR-10 Batch 3:  Current Validation Loss: 1.012 - Current Validation Accuracy: 54.50000000000001%\n",
      "Epoch  7, CIFAR-10 Batch 4:  Current Validation Loss: 1.098 - Current Validation Accuracy: 54.800000000000004%\n",
      "Epoch  7, CIFAR-10 Batch 5:  Current Validation Loss: 1.146 - Current Validation Accuracy: 55.300000000000004%\n",
      "Epoch  8, CIFAR-10 Batch 1:  Current Validation Loss: 1.272 - Current Validation Accuracy: 54.7%\n",
      "Epoch  8, CIFAR-10 Batch 2:  Current Validation Loss: 1.04 - Current Validation Accuracy: 56.10000000000001%\n",
      "Epoch  8, CIFAR-10 Batch 3:  Current Validation Loss: 1.016 - Current Validation Accuracy: 55.50000000000001%\n",
      "Epoch  8, CIFAR-10 Batch 4:  Current Validation Loss: 1.096 - Current Validation Accuracy: 55.2%\n",
      "Epoch  8, CIFAR-10 Batch 5:  Current Validation Loss: 1.097 - Current Validation Accuracy: 56.10000000000001%\n",
      "Epoch  9, CIFAR-10 Batch 1:  Current Validation Loss: 1.249 - Current Validation Accuracy: 55.900000000000006%\n",
      "Epoch  9, CIFAR-10 Batch 2:  Current Validation Loss: 0.959 - Current Validation Accuracy: 56.8%\n",
      "Epoch  9, CIFAR-10 Batch 3:  Current Validation Loss: 0.964 - Current Validation Accuracy: 54.900000000000006%\n",
      "Epoch  9, CIFAR-10 Batch 4:  Current Validation Loss: 1.01 - Current Validation Accuracy: 55.900000000000006%\n",
      "Epoch  9, CIFAR-10 Batch 5:  Current Validation Loss: 1.109 - Current Validation Accuracy: 55.60000000000001%\n",
      "Epoch 10, CIFAR-10 Batch 1:  Current Validation Loss: 1.2 - Current Validation Accuracy: 56.00000000000001%\n",
      "Epoch 10, CIFAR-10 Batch 2:  Current Validation Loss: 0.923 - Current Validation Accuracy: 56.99999999999999%\n",
      "Epoch 10, CIFAR-10 Batch 3:  Current Validation Loss: 0.964 - Current Validation Accuracy: 56.49999999999999%\n",
      "Epoch 10, CIFAR-10 Batch 4:  Current Validation Loss: 0.962 - Current Validation Accuracy: 55.900000000000006%\n",
      "Epoch 10, CIFAR-10 Batch 5:  Current Validation Loss: 1.047 - Current Validation Accuracy: 57.49999999999999%\n",
      "Epoch 11, CIFAR-10 Batch 1:  Current Validation Loss: 1.139 - Current Validation Accuracy: 56.49999999999999%\n",
      "Epoch 11, CIFAR-10 Batch 2:  Current Validation Loss: 0.875 - Current Validation Accuracy: 57.99999999999999%\n",
      "Epoch 11, CIFAR-10 Batch 3:  Current Validation Loss: 0.93 - Current Validation Accuracy: 56.8%\n",
      "Epoch 11, CIFAR-10 Batch 4:  Current Validation Loss: 0.938 - Current Validation Accuracy: 56.99999999999999%\n",
      "Epoch 11, CIFAR-10 Batch 5:  Current Validation Loss: 0.982 - Current Validation Accuracy: 57.4%\n",
      "Epoch 12, CIFAR-10 Batch 1:  Current Validation Loss: 1.113 - Current Validation Accuracy: 56.99999999999999%\n",
      "Epoch 12, CIFAR-10 Batch 2:  Current Validation Loss: 0.815 - Current Validation Accuracy: 57.4%\n",
      "Epoch 12, CIFAR-10 Batch 3:  Current Validation Loss: 0.86 - Current Validation Accuracy: 56.89999999999999%\n",
      "Epoch 12, CIFAR-10 Batch 4:  Current Validation Loss: 0.876 - Current Validation Accuracy: 57.599999999999994%\n",
      "Epoch 12, CIFAR-10 Batch 5:  Current Validation Loss: 0.951 - Current Validation Accuracy: 57.9%\n",
      "Epoch 13, CIFAR-10 Batch 1:  Current Validation Loss: 1.1 - Current Validation Accuracy: 57.8%\n",
      "Epoch 13, CIFAR-10 Batch 2:  Current Validation Loss: 0.798 - Current Validation Accuracy: 58.4%\n",
      "Epoch 13, CIFAR-10 Batch 3:  Current Validation Loss: 0.85 - Current Validation Accuracy: 57.49999999999999%\n",
      "Epoch 13, CIFAR-10 Batch 4:  Current Validation Loss: 0.852 - Current Validation Accuracy: 57.4%\n",
      "Epoch 13, CIFAR-10 Batch 5:  Current Validation Loss: 0.87 - Current Validation Accuracy: 57.599999999999994%\n",
      "Epoch 14, CIFAR-10 Batch 1:  Current Validation Loss: 0.998 - Current Validation Accuracy: 57.9%\n",
      "Epoch 14, CIFAR-10 Batch 2:  Current Validation Loss: 0.709 - Current Validation Accuracy: 59.4%\n",
      "Epoch 14, CIFAR-10 Batch 3:  Current Validation Loss: 0.813 - Current Validation Accuracy: 57.99999999999999%\n",
      "Epoch 14, CIFAR-10 Batch 4:  Current Validation Loss: 0.849 - Current Validation Accuracy: 57.599999999999994%\n",
      "Epoch 14, CIFAR-10 Batch 5:  Current Validation Loss: 0.87 - Current Validation Accuracy: 58.099999999999994%\n",
      "Epoch 15, CIFAR-10 Batch 1:  Current Validation Loss: 0.99 - Current Validation Accuracy: 58.599999999999994%\n",
      "Epoch 15, CIFAR-10 Batch 2:  Current Validation Loss: 0.703 - Current Validation Accuracy: 59.199999999999996%\n",
      "Epoch 15, CIFAR-10 Batch 3:  Current Validation Loss: 0.768 - Current Validation Accuracy: 58.4%\n",
      "Epoch 15, CIFAR-10 Batch 4:  Current Validation Loss: 0.809 - Current Validation Accuracy: 58.599999999999994%\n",
      "Epoch 15, CIFAR-10 Batch 5:  Current Validation Loss: 0.833 - Current Validation Accuracy: 58.9%\n",
      "Epoch 16, CIFAR-10 Batch 1:  Current Validation Loss: 0.979 - Current Validation Accuracy: 58.4%\n",
      "Epoch 16, CIFAR-10 Batch 2:  Current Validation Loss: 0.66 - Current Validation Accuracy: 58.9%\n",
      "Epoch 16, CIFAR-10 Batch 3:  Current Validation Loss: 0.724 - Current Validation Accuracy: 58.199999999999996%\n",
      "Epoch 16, CIFAR-10 Batch 4:  Current Validation Loss: 0.729 - Current Validation Accuracy: 58.8%\n",
      "Epoch 16, CIFAR-10 Batch 5:  Current Validation Loss: 0.786 - Current Validation Accuracy: 59.0%\n"
     ]
    },
    {
     "name": "stdout",
     "output_type": "stream",
     "text": [
      "Epoch 17, CIFAR-10 Batch 1:  Current Validation Loss: 0.956 - Current Validation Accuracy: 58.8%\n",
      "Epoch 17, CIFAR-10 Batch 2:  Current Validation Loss: 0.609 - Current Validation Accuracy: 59.199999999999996%\n",
      "Epoch 17, CIFAR-10 Batch 3:  Current Validation Loss: 0.69 - Current Validation Accuracy: 57.99999999999999%\n",
      "Epoch 17, CIFAR-10 Batch 4:  Current Validation Loss: 0.662 - Current Validation Accuracy: 58.5%\n",
      "Epoch 17, CIFAR-10 Batch 5:  Current Validation Loss: 0.733 - Current Validation Accuracy: 58.199999999999996%\n",
      "Epoch 18, CIFAR-10 Batch 1:  Current Validation Loss: 0.929 - Current Validation Accuracy: 58.699999999999996%\n",
      "Epoch 18, CIFAR-10 Batch 2:  Current Validation Loss: 0.612 - Current Validation Accuracy: 59.3%\n",
      "Epoch 18, CIFAR-10 Batch 3:  Current Validation Loss: 0.612 - Current Validation Accuracy: 58.9%\n",
      "Epoch 18, CIFAR-10 Batch 4:  Current Validation Loss: 0.634 - Current Validation Accuracy: 59.0%\n",
      "Epoch 18, CIFAR-10 Batch 5:  Current Validation Loss: 0.69 - Current Validation Accuracy: 58.699999999999996%\n",
      "Epoch 19, CIFAR-10 Batch 1:  Current Validation Loss: 0.852 - Current Validation Accuracy: 59.099999999999994%\n",
      "Epoch 19, CIFAR-10 Batch 2:  Current Validation Loss: 0.56 - Current Validation Accuracy: 59.199999999999996%\n",
      "Epoch 19, CIFAR-10 Batch 3:  Current Validation Loss: 0.634 - Current Validation Accuracy: 59.5%\n",
      "Epoch 19, CIFAR-10 Batch 4:  Current Validation Loss: 0.612 - Current Validation Accuracy: 59.3%\n",
      "Epoch 19, CIFAR-10 Batch 5:  Current Validation Loss: 0.692 - Current Validation Accuracy: 58.699999999999996%\n",
      "Epoch 20, CIFAR-10 Batch 1:  Current Validation Loss: 0.825 - Current Validation Accuracy: 58.3%\n",
      "Epoch 20, CIFAR-10 Batch 2:  Current Validation Loss: 0.527 - Current Validation Accuracy: 59.5%\n",
      "Epoch 20, CIFAR-10 Batch 3:  Current Validation Loss: 0.623 - Current Validation Accuracy: 58.9%\n",
      "Epoch 20, CIFAR-10 Batch 4:  Current Validation Loss: 0.595 - Current Validation Accuracy: 58.4%\n",
      "Epoch 20, CIFAR-10 Batch 5:  Current Validation Loss: 0.621 - Current Validation Accuracy: 59.5%\n",
      "Epoch 21, CIFAR-10 Batch 1:  Current Validation Loss: 0.764 - Current Validation Accuracy: 59.199999999999996%\n",
      "Epoch 21, CIFAR-10 Batch 2:  Current Validation Loss: 0.501 - Current Validation Accuracy: 59.4%\n",
      "Epoch 21, CIFAR-10 Batch 3:  Current Validation Loss: 0.574 - Current Validation Accuracy: 59.699999999999996%\n",
      "Epoch 21, CIFAR-10 Batch 4:  Current Validation Loss: 0.549 - Current Validation Accuracy: 58.5%\n",
      "Epoch 21, CIFAR-10 Batch 5:  Current Validation Loss: 0.563 - Current Validation Accuracy: 59.0%\n",
      "Epoch 22, CIFAR-10 Batch 1:  Current Validation Loss: 0.727 - Current Validation Accuracy: 59.699999999999996%\n",
      "Epoch 22, CIFAR-10 Batch 2:  Current Validation Loss: 0.475 - Current Validation Accuracy: 59.3%\n",
      "Epoch 22, CIFAR-10 Batch 3:  Current Validation Loss: 0.553 - Current Validation Accuracy: 59.699999999999996%\n",
      "Epoch 22, CIFAR-10 Batch 4:  Current Validation Loss: 0.521 - Current Validation Accuracy: 59.4%\n",
      "Epoch 22, CIFAR-10 Batch 5:  Current Validation Loss: 0.57 - Current Validation Accuracy: 58.9%\n",
      "Epoch 23, CIFAR-10 Batch 1:  Current Validation Loss: 0.671 - Current Validation Accuracy: 59.9%\n",
      "Epoch 23, CIFAR-10 Batch 2:  Current Validation Loss: 0.427 - Current Validation Accuracy: 60.3%\n",
      "Epoch 23, CIFAR-10 Batch 3:  Current Validation Loss: 0.514 - Current Validation Accuracy: 59.4%\n",
      "Epoch 23, CIFAR-10 Batch 4:  Current Validation Loss: 0.502 - Current Validation Accuracy: 59.5%\n",
      "Epoch 23, CIFAR-10 Batch 5:  Current Validation Loss: 0.568 - Current Validation Accuracy: 60.199999999999996%\n",
      "Epoch 24, CIFAR-10 Batch 1:  Current Validation Loss: 0.67 - Current Validation Accuracy: 59.099999999999994%\n",
      "Epoch 24, CIFAR-10 Batch 2:  Current Validation Loss: 0.401 - Current Validation Accuracy: 59.5%\n",
      "Epoch 24, CIFAR-10 Batch 3:  Current Validation Loss: 0.503 - Current Validation Accuracy: 60.0%\n",
      "Epoch 24, CIFAR-10 Batch 4:  Current Validation Loss: 0.459 - Current Validation Accuracy: 59.5%\n",
      "Epoch 24, CIFAR-10 Batch 5:  Current Validation Loss: 0.503 - Current Validation Accuracy: 59.8%\n",
      "Epoch 25, CIFAR-10 Batch 1:  Current Validation Loss: 0.595 - Current Validation Accuracy: 59.8%\n",
      "Epoch 25, CIFAR-10 Batch 2:  Current Validation Loss: 0.444 - Current Validation Accuracy: 59.8%\n",
      "Epoch 25, CIFAR-10 Batch 3:  Current Validation Loss: 0.439 - Current Validation Accuracy: 60.099999999999994%\n",
      "Epoch 25, CIFAR-10 Batch 4:  Current Validation Loss: 0.444 - Current Validation Accuracy: 59.699999999999996%\n",
      "Epoch 25, CIFAR-10 Batch 5:  Current Validation Loss: 0.492 - Current Validation Accuracy: 59.599999999999994%\n",
      "Epoch 26, CIFAR-10 Batch 1:  Current Validation Loss: 0.53 - Current Validation Accuracy: 59.5%\n",
      "Epoch 26, CIFAR-10 Batch 2:  Current Validation Loss: 0.377 - Current Validation Accuracy: 59.9%\n",
      "Epoch 26, CIFAR-10 Batch 3:  Current Validation Loss: 0.403 - Current Validation Accuracy: 60.099999999999994%\n",
      "Epoch 26, CIFAR-10 Batch 4:  Current Validation Loss: 0.417 - Current Validation Accuracy: 59.9%\n",
      "Epoch 26, CIFAR-10 Batch 5:  Current Validation Loss: 0.439 - Current Validation Accuracy: 59.599999999999994%\n",
      "Epoch 27, CIFAR-10 Batch 1:  Current Validation Loss: 0.517 - Current Validation Accuracy: 59.4%\n",
      "Epoch 27, CIFAR-10 Batch 2:  Current Validation Loss: 0.326 - Current Validation Accuracy: 59.599999999999994%\n",
      "Epoch 27, CIFAR-10 Batch 3:  Current Validation Loss: 0.358 - Current Validation Accuracy: 59.8%\n",
      "Epoch 27, CIFAR-10 Batch 4:  Current Validation Loss: 0.37 - Current Validation Accuracy: 60.0%\n",
      "Epoch 27, CIFAR-10 Batch 5:  Current Validation Loss: 0.482 - Current Validation Accuracy: 60.0%\n",
      "Epoch 28, CIFAR-10 Batch 1:  Current Validation Loss: 0.481 - Current Validation Accuracy: 59.5%\n",
      "Epoch 28, CIFAR-10 Batch 2:  Current Validation Loss: 0.341 - Current Validation Accuracy: 59.599999999999994%\n",
      "Epoch 28, CIFAR-10 Batch 3:  Current Validation Loss: 0.378 - Current Validation Accuracy: 59.699999999999996%\n",
      "Epoch 28, CIFAR-10 Batch 4:  Current Validation Loss: 0.353 - Current Validation Accuracy: 60.099999999999994%\n",
      "Epoch 28, CIFAR-10 Batch 5:  Current Validation Loss: 0.414 - Current Validation Accuracy: 59.5%\n",
      "Epoch 29, CIFAR-10 Batch 1:  Current Validation Loss: 0.489 - Current Validation Accuracy: 59.599999999999994%\n",
      "Epoch 29, CIFAR-10 Batch 2:  Current Validation Loss: 0.326 - Current Validation Accuracy: 59.9%\n",
      "Epoch 29, CIFAR-10 Batch 3:  Current Validation Loss: 0.33 - Current Validation Accuracy: 59.9%\n",
      "Epoch 29, CIFAR-10 Batch 4:  Current Validation Loss: 0.315 - Current Validation Accuracy: 59.9%\n",
      "Epoch 29, CIFAR-10 Batch 5:  Current Validation Loss: 0.391 - Current Validation Accuracy: 59.5%\n",
      "Epoch 30, CIFAR-10 Batch 1:  Current Validation Loss: 0.46 - Current Validation Accuracy: 58.8%\n",
      "Epoch 30, CIFAR-10 Batch 2:  Current Validation Loss: 0.293 - Current Validation Accuracy: 60.4%\n",
      "Epoch 30, CIFAR-10 Batch 3:  Current Validation Loss: 0.324 - Current Validation Accuracy: 59.3%\n",
      "Epoch 30, CIFAR-10 Batch 4:  Current Validation Loss: 0.295 - Current Validation Accuracy: 60.0%\n",
      "Epoch 30, CIFAR-10 Batch 5:  Current Validation Loss: 0.366 - Current Validation Accuracy: 59.3%\n",
      "Epoch 31, CIFAR-10 Batch 1:  Current Validation Loss: 0.415 - Current Validation Accuracy: 59.9%\n",
      "Epoch 31, CIFAR-10 Batch 2:  Current Validation Loss: 0.298 - Current Validation Accuracy: 59.9%\n",
      "Epoch 31, CIFAR-10 Batch 3:  Current Validation Loss: 0.294 - Current Validation Accuracy: 60.699999999999996%\n",
      "Epoch 31, CIFAR-10 Batch 4:  Current Validation Loss: 0.245 - Current Validation Accuracy: 60.3%\n",
      "Epoch 31, CIFAR-10 Batch 5:  Current Validation Loss: 0.367 - Current Validation Accuracy: 60.3%\n",
      "Epoch 32, CIFAR-10 Batch 1:  Current Validation Loss: 0.377 - Current Validation Accuracy: 60.8%\n",
      "Epoch 32, CIFAR-10 Batch 2:  Current Validation Loss: 0.26 - Current Validation Accuracy: 59.8%\n",
      "Epoch 32, CIFAR-10 Batch 3:  Current Validation Loss: 0.283 - Current Validation Accuracy: 60.699999999999996%\n",
      "Epoch 32, CIFAR-10 Batch 4:  Current Validation Loss: 0.273 - Current Validation Accuracy: 60.099999999999994%\n",
      "Epoch 32, CIFAR-10 Batch 5:  Current Validation Loss: 0.362 - Current Validation Accuracy: 59.9%\n",
      "Epoch 33, CIFAR-10 Batch 1:  Current Validation Loss: 0.351 - Current Validation Accuracy: 59.8%\n"
     ]
    },
    {
     "name": "stdout",
     "output_type": "stream",
     "text": [
      "Epoch 33, CIFAR-10 Batch 2:  Current Validation Loss: 0.231 - Current Validation Accuracy: 59.0%\n",
      "Epoch 33, CIFAR-10 Batch 3:  Current Validation Loss: 0.265 - Current Validation Accuracy: 59.4%\n",
      "Epoch 33, CIFAR-10 Batch 4:  Current Validation Loss: 0.21 - Current Validation Accuracy: 60.3%\n",
      "Epoch 33, CIFAR-10 Batch 5:  Current Validation Loss: 0.306 - Current Validation Accuracy: 60.099999999999994%\n",
      "Epoch 34, CIFAR-10 Batch 1:  Current Validation Loss: 0.329 - Current Validation Accuracy: 60.0%\n",
      "Epoch 34, CIFAR-10 Batch 2:  Current Validation Loss: 0.207 - Current Validation Accuracy: 59.0%\n",
      "Epoch 34, CIFAR-10 Batch 3:  Current Validation Loss: 0.227 - Current Validation Accuracy: 59.4%\n",
      "Epoch 34, CIFAR-10 Batch 4:  Current Validation Loss: 0.222 - Current Validation Accuracy: 60.3%\n",
      "Epoch 34, CIFAR-10 Batch 5:  Current Validation Loss: 0.244 - Current Validation Accuracy: 60.3%\n",
      "Epoch 35, CIFAR-10 Batch 1:  Current Validation Loss: 0.293 - Current Validation Accuracy: 60.099999999999994%\n",
      "Epoch 35, CIFAR-10 Batch 2:  Current Validation Loss: 0.2 - Current Validation Accuracy: 59.599999999999994%\n",
      "Epoch 35, CIFAR-10 Batch 3:  Current Validation Loss: 0.218 - Current Validation Accuracy: 60.0%\n",
      "Epoch 35, CIFAR-10 Batch 4:  Current Validation Loss: 0.217 - Current Validation Accuracy: 60.4%\n",
      "Epoch 35, CIFAR-10 Batch 5:  Current Validation Loss: 0.252 - Current Validation Accuracy: 60.099999999999994%\n",
      "Epoch 36, CIFAR-10 Batch 1:  Current Validation Loss: 0.27 - Current Validation Accuracy: 59.599999999999994%\n",
      "Epoch 36, CIFAR-10 Batch 2:  Current Validation Loss: 0.212 - Current Validation Accuracy: 59.5%\n",
      "Epoch 36, CIFAR-10 Batch 3:  Current Validation Loss: 0.257 - Current Validation Accuracy: 60.699999999999996%\n",
      "Epoch 36, CIFAR-10 Batch 4:  Current Validation Loss: 0.219 - Current Validation Accuracy: 59.4%\n",
      "Epoch 36, CIFAR-10 Batch 5:  Current Validation Loss: 0.235 - Current Validation Accuracy: 60.3%\n",
      "Epoch 37, CIFAR-10 Batch 1:  Current Validation Loss: 0.327 - Current Validation Accuracy: 59.8%\n",
      "Epoch 37, CIFAR-10 Batch 2:  Current Validation Loss: 0.181 - Current Validation Accuracy: 59.599999999999994%\n",
      "Epoch 37, CIFAR-10 Batch 3:  Current Validation Loss: 0.192 - Current Validation Accuracy: 59.9%\n",
      "Epoch 37, CIFAR-10 Batch 4:  Current Validation Loss: 0.18 - Current Validation Accuracy: 59.199999999999996%\n",
      "Epoch 37, CIFAR-10 Batch 5:  Current Validation Loss: 0.248 - Current Validation Accuracy: 59.9%\n",
      "Epoch 38, CIFAR-10 Batch 1:  Current Validation Loss: 0.265 - Current Validation Accuracy: 59.0%\n",
      "Epoch 38, CIFAR-10 Batch 2:  Current Validation Loss: 0.163 - Current Validation Accuracy: 60.5%\n",
      "Epoch 38, CIFAR-10 Batch 3:  Current Validation Loss: 0.194 - Current Validation Accuracy: 60.0%\n",
      "Epoch 38, CIFAR-10 Batch 4:  Current Validation Loss: 0.193 - Current Validation Accuracy: 59.8%\n",
      "Epoch 38, CIFAR-10 Batch 5:  Current Validation Loss: 0.211 - Current Validation Accuracy: 59.599999999999994%\n",
      "Epoch 39, CIFAR-10 Batch 1:  Current Validation Loss: 0.242 - Current Validation Accuracy: 60.199999999999996%\n",
      "Epoch 39, CIFAR-10 Batch 2:  Current Validation Loss: 0.185 - Current Validation Accuracy: 59.8%\n",
      "Epoch 39, CIFAR-10 Batch 3:  Current Validation Loss: 0.189 - Current Validation Accuracy: 60.0%\n",
      "Epoch 39, CIFAR-10 Batch 4:  Current Validation Loss: 0.156 - Current Validation Accuracy: 59.4%\n",
      "Epoch 39, CIFAR-10 Batch 5:  Current Validation Loss: 0.16 - Current Validation Accuracy: 60.3%\n",
      "Epoch 40, CIFAR-10 Batch 1:  Current Validation Loss: 0.252 - Current Validation Accuracy: 60.4%\n",
      "Epoch 40, CIFAR-10 Batch 2:  Current Validation Loss: 0.161 - Current Validation Accuracy: 59.3%\n",
      "Epoch 40, CIFAR-10 Batch 3:  Current Validation Loss: 0.155 - Current Validation Accuracy: 60.3%\n",
      "Epoch 40, CIFAR-10 Batch 4:  Current Validation Loss: 0.13 - Current Validation Accuracy: 60.6%\n",
      "Epoch 40, CIFAR-10 Batch 5:  Current Validation Loss: 0.192 - Current Validation Accuracy: 59.8%\n",
      "Epoch 41, CIFAR-10 Batch 1:  Current Validation Loss: 0.238 - Current Validation Accuracy: 59.699999999999996%\n",
      "Epoch 41, CIFAR-10 Batch 2:  Current Validation Loss: 0.144 - Current Validation Accuracy: 60.0%\n",
      "Epoch 41, CIFAR-10 Batch 3:  Current Validation Loss: 0.138 - Current Validation Accuracy: 60.0%\n",
      "Epoch 41, CIFAR-10 Batch 4:  Current Validation Loss: 0.151 - Current Validation Accuracy: 59.9%\n",
      "Epoch 41, CIFAR-10 Batch 5:  Current Validation Loss: 0.162 - Current Validation Accuracy: 60.0%\n",
      "Epoch 42, CIFAR-10 Batch 1:  Current Validation Loss: 0.186 - Current Validation Accuracy: 59.9%\n",
      "Epoch 42, CIFAR-10 Batch 2:  Current Validation Loss: 0.115 - Current Validation Accuracy: 59.5%\n",
      "Epoch 42, CIFAR-10 Batch 3:  Current Validation Loss: 0.115 - Current Validation Accuracy: 60.099999999999994%\n",
      "Epoch 42, CIFAR-10 Batch 4:  Current Validation Loss: 0.12 - Current Validation Accuracy: 59.699999999999996%\n",
      "Epoch 42, CIFAR-10 Batch 5:  Current Validation Loss: 0.168 - Current Validation Accuracy: 59.8%\n",
      "Epoch 43, CIFAR-10 Batch 1:  Current Validation Loss: 0.223 - Current Validation Accuracy: 59.3%\n",
      "Epoch 43, CIFAR-10 Batch 2:  Current Validation Loss: 0.109 - Current Validation Accuracy: 60.099999999999994%\n",
      "Epoch 43, CIFAR-10 Batch 3:  Current Validation Loss: 0.111 - Current Validation Accuracy: 60.3%\n",
      "Epoch 43, CIFAR-10 Batch 4:  Current Validation Loss: 0.124 - Current Validation Accuracy: 59.599999999999994%\n",
      "Epoch 43, CIFAR-10 Batch 5:  Current Validation Loss: 0.168 - Current Validation Accuracy: 59.9%\n",
      "Epoch 44, CIFAR-10 Batch 1:  Current Validation Loss: 0.207 - Current Validation Accuracy: 59.5%\n",
      "Epoch 44, CIFAR-10 Batch 2:  Current Validation Loss: 0.142 - Current Validation Accuracy: 59.4%\n",
      "Epoch 44, CIFAR-10 Batch 3:  Current Validation Loss: 0.106 - Current Validation Accuracy: 59.9%\n",
      "Epoch 44, CIFAR-10 Batch 4:  Current Validation Loss: 0.104 - Current Validation Accuracy: 59.599999999999994%\n",
      "Epoch 44, CIFAR-10 Batch 5:  Current Validation Loss: 0.161 - Current Validation Accuracy: 60.4%\n",
      "Epoch 45, CIFAR-10 Batch 1:  Current Validation Loss: 0.176 - Current Validation Accuracy: 59.099999999999994%\n",
      "Epoch 45, CIFAR-10 Batch 2:  Current Validation Loss: 0.122 - Current Validation Accuracy: 59.699999999999996%\n",
      "Epoch 45, CIFAR-10 Batch 3:  Current Validation Loss: 0.111 - Current Validation Accuracy: 59.9%\n",
      "Epoch 45, CIFAR-10 Batch 4:  Current Validation Loss: 0.125 - Current Validation Accuracy: 59.699999999999996%\n",
      "Epoch 45, CIFAR-10 Batch 5:  Current Validation Loss: 0.124 - Current Validation Accuracy: 60.3%\n",
      "Epoch 46, CIFAR-10 Batch 1:  Current Validation Loss: 0.194 - Current Validation Accuracy: 60.099999999999994%\n",
      "Epoch 46, CIFAR-10 Batch 2:  Current Validation Loss: 0.119 - Current Validation Accuracy: 59.3%\n",
      "Epoch 46, CIFAR-10 Batch 3:  Current Validation Loss: 0.101 - Current Validation Accuracy: 60.0%\n",
      "Epoch 46, CIFAR-10 Batch 4:  Current Validation Loss: 0.092 - Current Validation Accuracy: 59.3%\n",
      "Epoch 46, CIFAR-10 Batch 5:  Current Validation Loss: 0.116 - Current Validation Accuracy: 60.3%\n",
      "Epoch 47, CIFAR-10 Batch 1:  Current Validation Loss: 0.158 - Current Validation Accuracy: 59.699999999999996%\n",
      "Epoch 47, CIFAR-10 Batch 2:  Current Validation Loss: 0.085 - Current Validation Accuracy: 59.4%\n",
      "Epoch 47, CIFAR-10 Batch 3:  Current Validation Loss: 0.091 - Current Validation Accuracy: 59.8%\n",
      "Epoch 47, CIFAR-10 Batch 4:  Current Validation Loss: 0.125 - Current Validation Accuracy: 59.9%\n",
      "Epoch 47, CIFAR-10 Batch 5:  Current Validation Loss: 0.095 - Current Validation Accuracy: 60.699999999999996%\n",
      "Epoch 48, CIFAR-10 Batch 1:  Current Validation Loss: 0.18 - Current Validation Accuracy: 59.0%\n",
      "Epoch 48, CIFAR-10 Batch 2:  Current Validation Loss: 0.085 - Current Validation Accuracy: 60.0%\n",
      "Epoch 48, CIFAR-10 Batch 3:  Current Validation Loss: 0.087 - Current Validation Accuracy: 59.9%\n",
      "Epoch 48, CIFAR-10 Batch 4:  Current Validation Loss: 0.091 - Current Validation Accuracy: 59.9%\n",
      "Epoch 48, CIFAR-10 Batch 5:  Current Validation Loss: 0.113 - Current Validation Accuracy: 60.6%\n",
      "Epoch 49, CIFAR-10 Batch 1:  Current Validation Loss: 0.131 - Current Validation Accuracy: 59.4%\n",
      "Epoch 49, CIFAR-10 Batch 2:  Current Validation Loss: 0.077 - Current Validation Accuracy: 59.0%\n",
      "Epoch 49, CIFAR-10 Batch 3:  Current Validation Loss: 0.075 - Current Validation Accuracy: 60.3%\n"
     ]
    },
    {
     "name": "stdout",
     "output_type": "stream",
     "text": [
      "Epoch 49, CIFAR-10 Batch 4:  Current Validation Loss: 0.095 - Current Validation Accuracy: 59.5%\n",
      "Epoch 49, CIFAR-10 Batch 5:  Current Validation Loss: 0.137 - Current Validation Accuracy: 60.199999999999996%\n",
      "Epoch 50, CIFAR-10 Batch 1:  Current Validation Loss: 0.127 - Current Validation Accuracy: 58.9%\n",
      "Epoch 50, CIFAR-10 Batch 2:  Current Validation Loss: 0.077 - Current Validation Accuracy: 59.8%\n",
      "Epoch 50, CIFAR-10 Batch 3:  Current Validation Loss: 0.059 - Current Validation Accuracy: 60.3%\n",
      "Epoch 50, CIFAR-10 Batch 4:  Current Validation Loss: 0.097 - Current Validation Accuracy: 60.0%\n",
      "Epoch 50, CIFAR-10 Batch 5:  Current Validation Loss: 0.104 - Current Validation Accuracy: 59.8%\n"
     ]
    }
   ],
   "source": [
    "\"\"\"\n",
    "DON'T MODIFY ANYTHING IN THIS CELL\n",
    "\"\"\"\n",
    "save_model_path = './image_classification'\n",
    "\n",
    "print('Training...')\n",
    "with tf.Session() as sess:\n",
    "    # Initializing the variables\n",
    "    sess.run(tf.global_variables_initializer())\n",
    "    \n",
    "    # Training cycle\n",
    "    for epoch in range(epochs):\n",
    "        # Loop over all batches\n",
    "        n_batches = 5\n",
    "        for batch_i in range(1, n_batches + 1):\n",
    "            for batch_features, batch_labels in helper.load_preprocess_training_batch(batch_i, batch_size):\n",
    "                train_neural_network(sess, optimizer, keep_probability, batch_features, batch_labels)\n",
    "            print('Epoch {:>2}, CIFAR-10 Batch {}:  '.format(epoch + 1, batch_i), end='')\n",
    "            print_stats(sess, batch_features, batch_labels, cost, accuracy)\n",
    "            \n",
    "    # Save Model\n",
    "    saver = tf.train.Saver()\n",
    "    save_path = saver.save(sess, save_model_path)"
   ]
  },
  {
   "cell_type": "markdown",
   "metadata": {},
   "source": [
    "# Checkpoint\n",
    "The model has been saved to disk.\n",
    "## Test Model\n",
    "Test your model against the test dataset.  This will be your final accuracy. You should have an accuracy greater than 50%. If you don't, keep tweaking the model architecture and parameters."
   ]
  },
  {
   "cell_type": "code",
   "execution_count": 157,
   "metadata": {},
   "outputs": [
    {
     "name": "stdout",
     "output_type": "stream",
     "text": [
      "INFO:tensorflow:Restoring parameters from ./image_classification\n",
      "Testing Accuracy: 0.6007999995350838\n",
      "\n"
     ]
    },
    {
     "data": {
      "image/png": "[encoded data removed]",
      "text/plain": [
       "<matplotlib.figure.Figure at 0x117d28ba8>"
      ]
     },
     "metadata": {
      "image/png": {
       "height": 319,
       "width": 355
      }
     },
     "output_type": "display_data"
    }
   ],
   "source": [
    "\"\"\"\n",
    "DON'T MODIFY ANYTHING IN THIS CELL\n",
    "\"\"\"\n",
    "%matplotlib inline\n",
    "%config InlineBackend.figure_format = 'retina'\n",
    "\n",
    "import tensorflow as tf\n",
    "import pickle\n",
    "import helper\n",
    "import random\n",
    "\n",
    "# Set batch size if not already set\n",
    "try:\n",
    "    if batch_size:\n",
    "        pass\n",
    "except NameError:\n",
    "    batch_size = 64\n",
    "\n",
    "save_model_path = './image_classification'\n",
    "n_samples = 4\n",
    "top_n_predictions = 3\n",
    "\n",
    "def test_model():\n",
    "    \"\"\"\n",
    "    Test the saved model against the test dataset\n",
    "    \"\"\"\n",
    "\n",
    "    test_features, test_labels = pickle.load(open('preprocess_training.p', mode='rb'))\n",
    "    loaded_graph = tf.Graph()\n",
    "\n",
    "    with tf.Session(graph=loaded_graph) as sess:\n",
    "        # Load model\n",
    "        loader = tf.train.import_meta_graph(save_model_path + '.meta')\n",
    "        loader.restore(sess, save_model_path)\n",
    "\n",
    "        # Get Tensors from loaded model\n",
    "        loaded_x = loaded_graph.get_tensor_by_name('x:0')\n",
    "        loaded_y = loaded_graph.get_tensor_by_name('y:0')\n",
    "        loaded_keep_prob = loaded_graph.get_tensor_by_name('keep_prob:0')\n",
    "        loaded_logits = loaded_graph.get_tensor_by_name('logits:0')\n",
    "        loaded_acc = loaded_graph.get_tensor_by_name('accuracy:0')\n",
    "        \n",
    "        # Get accuracy in batches for memory limitations\n",
    "        test_batch_acc_total = 0\n",
    "        test_batch_count = 0\n",
    "        \n",
    "        for train_feature_batch, train_label_batch in helper.batch_features_labels(test_features, test_labels, batch_size):\n",
    "            test_batch_acc_total += sess.run(\n",
    "                loaded_acc,\n",
    "                feed_dict={loaded_x: train_feature_batch, loaded_y: train_label_batch, loaded_keep_prob: 1.0})\n",
    "            test_batch_count += 1\n",
    "\n",
    "        print('Testing Accuracy: {}\\n'.format(test_batch_acc_total/test_batch_count))\n",
    "\n",
    "        # Print Random Samples\n",
    "        random_test_features, random_test_labels = tuple(zip(*random.sample(list(zip(test_features, test_labels)), n_samples)))\n",
    "        random_test_predictions = sess.run(\n",
    "            tf.nn.top_k(tf.nn.softmax(loaded_logits), top_n_predictions),\n",
    "            feed_dict={loaded_x: random_test_features, loaded_y: random_test_labels, loaded_keep_prob: 1.0})\n",
    "        helper.display_image_predictions(random_test_features, random_test_labels, random_test_predictions)\n",
    "\n",
    "\n",
    "test_model()"
   ]
  },
  {
   "cell_type": "markdown",
   "metadata": {},
   "source": [
    "## Why 50-80% Accuracy?\n",
    "You might be wondering why you can't get an accuracy any higher. First things first, 50% isn't bad for a simple CNN.  Pure guessing would get you 10% accuracy. That's because there are many more techniques that can be applied to your model and we recemmond that once you are done with this project, you explore!\n",
    "\n",
    "## Submitting This Project\n",
    "When submitting this project, make sure to run all the cells before saving the notebook.  Save the notebook file as \"image_classification.ipynb\" and save it as a HTML file under \"File\" -> \"Download as\".  Include the \"helper.py\" and \"problem_unittests.py\" files in your submission."
   ]
  },
  {
   "cell_type": "code",
   "execution_count": null,
   "metadata": {
    "collapsed": true
   },
   "outputs": [],
   "source": []
  }
 ],
 "metadata": {
  "kernelspec": {
   "display_name": "Python 3",
   "language": "python",
   "name": "python3"
  },
  "language_info": {
   "codemirror_mode": {
    "name": "ipython",
    "version": 3
   },
   "file_extension": ".py",
   "mimetype": "text/x-python",
   "name": "python",
   "nbconvert_exporter": "python",
   "pygments_lexer": "ipython3",
   "version": "3.5.3"
  }
 },
 "nbformat": 4,
 "nbformat_minor": 1
}
